{
 "cells": [
  {
   "cell_type": "code",
   "execution_count": 1,
   "metadata": {},
   "outputs": [],
   "source": [
    "import pandas as pd\n",
    "import numpy as np\n",
    "import datetime \n",
    "import pickle"
   ]
  },
  {
   "cell_type": "code",
   "execution_count": 2,
   "metadata": {},
   "outputs": [
    {
     "name": "stdout",
     "output_type": "stream",
     "text": [
      "<class 'pandas.core.frame.DataFrame'>\n",
      "RangeIndex: 2756101 entries, 0 to 2756100\n",
      "Data columns (total 5 columns):\n",
      "timestamp        int64\n",
      "visitorid        int64\n",
      "event            object\n",
      "itemid           int64\n",
      "transactionid    float64\n",
      "dtypes: float64(1), int64(3), object(1)\n",
      "memory usage: 105.1+ MB\n"
     ]
    }
   ],
   "source": [
    "df = pd.read_csv(r'./dataset/events.csv')\n",
    "df.info()"
   ]
  },
  {
   "cell_type": "code",
   "execution_count": 3,
   "metadata": {},
   "outputs": [],
   "source": [
    "df = df.sort_values(by='timestamp')\n",
    "df['datetime'] = pd.to_datetime(df['timestamp'], unit='ms')\n",
    "df['date'] = [(_).strftime('%Y-%m-%d') for _ in df['datetime']]"
   ]
  },
  {
   "cell_type": "code",
   "execution_count": 4,
   "metadata": {},
   "outputs": [
    {
     "data": {
      "text/html": [
       "<div>\n",
       "<style scoped>\n",
       "    .dataframe tbody tr th:only-of-type {\n",
       "        vertical-align: middle;\n",
       "    }\n",
       "\n",
       "    .dataframe tbody tr th {\n",
       "        vertical-align: top;\n",
       "    }\n",
       "\n",
       "    .dataframe thead th {\n",
       "        text-align: right;\n",
       "    }\n",
       "</style>\n",
       "<table border=\"1\" class=\"dataframe\">\n",
       "  <thead>\n",
       "    <tr style=\"text-align: right;\">\n",
       "      <th></th>\n",
       "      <th>timestamp</th>\n",
       "      <th>visitorid</th>\n",
       "      <th>event</th>\n",
       "      <th>itemid</th>\n",
       "      <th>transactionid</th>\n",
       "      <th>datetime</th>\n",
       "      <th>date</th>\n",
       "    </tr>\n",
       "  </thead>\n",
       "  <tbody>\n",
       "    <tr>\n",
       "      <th>1462974</th>\n",
       "      <td>1430622004384</td>\n",
       "      <td>693516</td>\n",
       "      <td>addtocart</td>\n",
       "      <td>297662</td>\n",
       "      <td>NaN</td>\n",
       "      <td>2015-05-03 03:00:04.384</td>\n",
       "      <td>2015-05-03</td>\n",
       "    </tr>\n",
       "    <tr>\n",
       "      <th>1464806</th>\n",
       "      <td>1430622011289</td>\n",
       "      <td>829044</td>\n",
       "      <td>view</td>\n",
       "      <td>60987</td>\n",
       "      <td>NaN</td>\n",
       "      <td>2015-05-03 03:00:11.289</td>\n",
       "      <td>2015-05-03</td>\n",
       "    </tr>\n",
       "    <tr>\n",
       "      <th>1463000</th>\n",
       "      <td>1430622013048</td>\n",
       "      <td>652699</td>\n",
       "      <td>view</td>\n",
       "      <td>252860</td>\n",
       "      <td>NaN</td>\n",
       "      <td>2015-05-03 03:00:13.048</td>\n",
       "      <td>2015-05-03</td>\n",
       "    </tr>\n",
       "    <tr>\n",
       "      <th>1465287</th>\n",
       "      <td>1430622024154</td>\n",
       "      <td>1125936</td>\n",
       "      <td>view</td>\n",
       "      <td>33661</td>\n",
       "      <td>NaN</td>\n",
       "      <td>2015-05-03 03:00:24.154</td>\n",
       "      <td>2015-05-03</td>\n",
       "    </tr>\n",
       "    <tr>\n",
       "      <th>1462955</th>\n",
       "      <td>1430622026228</td>\n",
       "      <td>693516</td>\n",
       "      <td>view</td>\n",
       "      <td>297662</td>\n",
       "      <td>NaN</td>\n",
       "      <td>2015-05-03 03:00:26.228</td>\n",
       "      <td>2015-05-03</td>\n",
       "    </tr>\n",
       "  </tbody>\n",
       "</table>\n",
       "</div>"
      ],
      "text/plain": [
       "             timestamp  visitorid      event  itemid  transactionid  \\\n",
       "1462974  1430622004384     693516  addtocart  297662            NaN   \n",
       "1464806  1430622011289     829044       view   60987            NaN   \n",
       "1463000  1430622013048     652699       view  252860            NaN   \n",
       "1465287  1430622024154    1125936       view   33661            NaN   \n",
       "1462955  1430622026228     693516       view  297662            NaN   \n",
       "\n",
       "                       datetime        date  \n",
       "1462974 2015-05-03 03:00:04.384  2015-05-03  \n",
       "1464806 2015-05-03 03:00:11.289  2015-05-03  \n",
       "1463000 2015-05-03 03:00:13.048  2015-05-03  \n",
       "1465287 2015-05-03 03:00:24.154  2015-05-03  \n",
       "1462955 2015-05-03 03:00:26.228  2015-05-03  "
      ]
     },
     "execution_count": 4,
     "metadata": {},
     "output_type": "execute_result"
    }
   ],
   "source": [
    "df.head()"
   ]
  },
  {
   "cell_type": "code",
   "execution_count": 5,
   "metadata": {},
   "outputs": [
    {
     "data": {
      "text/html": [
       "<div>\n",
       "<style scoped>\n",
       "    .dataframe tbody tr th:only-of-type {\n",
       "        vertical-align: middle;\n",
       "    }\n",
       "\n",
       "    .dataframe tbody tr th {\n",
       "        vertical-align: top;\n",
       "    }\n",
       "\n",
       "    .dataframe thead th {\n",
       "        text-align: right;\n",
       "    }\n",
       "</style>\n",
       "<table border=\"1\" class=\"dataframe\">\n",
       "  <thead>\n",
       "    <tr style=\"text-align: right;\">\n",
       "      <th></th>\n",
       "      <th>timestamp</th>\n",
       "      <th>visitorid</th>\n",
       "      <th>event</th>\n",
       "      <th>itemid</th>\n",
       "      <th>transactionid</th>\n",
       "      <th>datetime</th>\n",
       "      <th>date</th>\n",
       "    </tr>\n",
       "  </thead>\n",
       "  <tbody>\n",
       "    <tr>\n",
       "      <th>1461164</th>\n",
       "      <td>1442545164029</td>\n",
       "      <td>472345</td>\n",
       "      <td>view</td>\n",
       "      <td>301436</td>\n",
       "      <td>NaN</td>\n",
       "      <td>2015-09-18 02:59:24.029</td>\n",
       "      <td>2015-09-18</td>\n",
       "    </tr>\n",
       "    <tr>\n",
       "      <th>1456543</th>\n",
       "      <td>1442545165499</td>\n",
       "      <td>1207677</td>\n",
       "      <td>view</td>\n",
       "      <td>310922</td>\n",
       "      <td>NaN</td>\n",
       "      <td>2015-09-18 02:59:25.499</td>\n",
       "      <td>2015-09-18</td>\n",
       "    </tr>\n",
       "    <tr>\n",
       "      <th>1456783</th>\n",
       "      <td>1442545174109</td>\n",
       "      <td>255126</td>\n",
       "      <td>view</td>\n",
       "      <td>47467</td>\n",
       "      <td>NaN</td>\n",
       "      <td>2015-09-18 02:59:34.109</td>\n",
       "      <td>2015-09-18</td>\n",
       "    </tr>\n",
       "    <tr>\n",
       "      <th>1454122</th>\n",
       "      <td>1442545181778</td>\n",
       "      <td>622226</td>\n",
       "      <td>view</td>\n",
       "      <td>345308</td>\n",
       "      <td>NaN</td>\n",
       "      <td>2015-09-18 02:59:41.778</td>\n",
       "      <td>2015-09-18</td>\n",
       "    </tr>\n",
       "    <tr>\n",
       "      <th>1459312</th>\n",
       "      <td>1442545187788</td>\n",
       "      <td>1287495</td>\n",
       "      <td>view</td>\n",
       "      <td>98299</td>\n",
       "      <td>NaN</td>\n",
       "      <td>2015-09-18 02:59:47.788</td>\n",
       "      <td>2015-09-18</td>\n",
       "    </tr>\n",
       "  </tbody>\n",
       "</table>\n",
       "</div>"
      ],
      "text/plain": [
       "             timestamp  visitorid event  itemid  transactionid  \\\n",
       "1461164  1442545164029     472345  view  301436            NaN   \n",
       "1456543  1442545165499    1207677  view  310922            NaN   \n",
       "1456783  1442545174109     255126  view   47467            NaN   \n",
       "1454122  1442545181778     622226  view  345308            NaN   \n",
       "1459312  1442545187788    1287495  view   98299            NaN   \n",
       "\n",
       "                       datetime        date  \n",
       "1461164 2015-09-18 02:59:24.029  2015-09-18  \n",
       "1456543 2015-09-18 02:59:25.499  2015-09-18  \n",
       "1456783 2015-09-18 02:59:34.109  2015-09-18  \n",
       "1454122 2015-09-18 02:59:41.778  2015-09-18  \n",
       "1459312 2015-09-18 02:59:47.788  2015-09-18  "
      ]
     },
     "execution_count": 5,
     "metadata": {},
     "output_type": "execute_result"
    }
   ],
   "source": [
    "df.tail()"
   ]
  },
  {
   "cell_type": "code",
   "execution_count": 6,
   "metadata": {},
   "outputs": [],
   "source": [
    "dataset = []\n",
    "\n",
    "for name, group in df.groupby(['visitorid', 'date']):\n",
    "    dataset.append(group['itemid'].values)"
   ]
  },
  {
   "cell_type": "code",
   "execution_count": 7,
   "metadata": {},
   "outputs": [
    {
     "data": {
      "text/plain": [
       "1649534"
      ]
     },
     "execution_count": 7,
     "metadata": {},
     "output_type": "execute_result"
    }
   ],
   "source": [
    "len(dataset)"
   ]
  },
  {
   "cell_type": "code",
   "execution_count": 8,
   "metadata": {},
   "outputs": [
    {
     "data": {
      "text/plain": [
       "[array([285930, 357564,  67045]),\n",
       " array([72028]),\n",
       " array([325215, 325215, 259884, 216305, 342816, 342816, 216305, 325215]),\n",
       " array([385090]),\n",
       " array([177677])]"
      ]
     },
     "execution_count": 8,
     "metadata": {},
     "output_type": "execute_result"
    }
   ],
   "source": [
    "dataset[:5]"
   ]
  },
  {
   "cell_type": "code",
   "execution_count": 9,
   "metadata": {},
   "outputs": [],
   "source": [
    "with open('./dataset/kaggle_dataset.pkl', 'wb') as fout:\n",
    "    pickle.dump(dataset, fout)"
   ]
  }
 ],
 "metadata": {
  "kernelspec": {
   "display_name": "Python 3",
   "language": "python",
   "name": "python3"
  },
  "language_info": {
   "codemirror_mode": {
    "name": "ipython",
    "version": 3
   },
   "file_extension": ".py",
   "mimetype": "text/x-python",
   "name": "python",
   "nbconvert_exporter": "python",
   "pygments_lexer": "ipython3",
   "version": "3.6.5"
  }
 },
 "nbformat": 4,
 "nbformat_minor": 2
}
