{
 "cells": [
  {
   "cell_type": "code",
   "execution_count": 15,
   "metadata": {},
   "outputs": [],
   "source": [
    "# replace space with tab"
   ]
  },
  {
   "cell_type": "code",
   "execution_count": 14,
   "metadata": {},
   "outputs": [],
   "source": [
    "! awk -v OFS=\"\\t\" '$1=$1' dataset/t10000i1000.data > dataset/t10000i1000_tab.data"
   ]
  },
  {
   "cell_type": "code",
   "execution_count": 23,
   "metadata": {},
   "outputs": [],
   "source": [
    "# import our implement code\n",
    "from apriori import Apriori, ReadData\n",
    "from fpgrowph import FPTree"
   ]
  },
  {
   "cell_type": "code",
   "execution_count": 10,
   "metadata": {},
   "outputs": [],
   "source": [
    "import pyfpgrowth\n",
    "import pandas as pd\n",
    "import numpy as np\n",
    "import datetime \n",
    "import timeit\n",
    "import pickle"
   ]
  },
  {
   "cell_type": "code",
   "execution_count": 26,
   "metadata": {},
   "outputs": [
    {
     "name": "stdout",
     "output_type": "stream",
     "text": [
      "pyfpgrowth\n",
      "Time:  0.0365846180357039\n",
      "Time:  0.1289132465608418\n",
      "Time:  1.0344123682007194\n"
     ]
    }
   ],
   "source": [
    "# 固定trasation數目(trasations = 10000)，觀察 minima support大小與實行時間關係\n",
    "\n",
    "print('pyfpgrowth')\n",
    "tic = timeit.default_timer()\n",
    "pyfpgrowth.find_frequent_patterns(dataset, 900)\n",
    "toc = timeit.default_timer()\n",
    "print('Time: ', toc - tic)\n",
    "\n",
    "tic = timeit.default_timer()\n",
    "pyfpgrowth.find_frequent_patterns(dataset, 300)\n",
    "toc = timeit.default_timer()\n",
    "print('Time: ', toc - tic)\n",
    "\n",
    "tic = timeit.default_timer()\n",
    "pyfpgrowth.find_frequent_patterns(dataset, 100)\n",
    "toc = timeit.default_timer()\n",
    "print('Time: ', toc - tic)"
   ]
  },
  {
   "cell_type": "code",
   "execution_count": 31,
   "metadata": {},
   "outputs": [
    {
     "name": "stdout",
     "output_type": "stream",
     "text": [
      "fp-growth\n",
      "Time:  0.05219484306871891\n",
      "Time:  0.13667751010507345\n",
      "Time:  2.850673302076757\n"
     ]
    }
   ],
   "source": [
    "print('fp-growth')\n",
    "tic = timeit.default_timer()\n",
    "tree = FPTree(dataset, 900, None, None)\n",
    "tree.mine_patterns(900)\n",
    "toc = timeit.default_timer()\n",
    "print('Time: ', toc - tic)\n",
    "\n",
    "tic = timeit.default_timer()\n",
    "tree = FPTree(dataset, 300, None, None)\n",
    "tree.mine_patterns(300)\n",
    "toc = timeit.default_timer()\n",
    "print('Time: ', toc - tic)\n",
    "\n",
    "tic = timeit.default_timer()\n",
    "tree = FPTree(dataset, 100, None, None)\n",
    "tree.mine_patterns(100)\n",
    "toc = timeit.default_timer()\n",
    "print('Time: ', toc - tic)"
   ]
  },
  {
   "cell_type": "code",
   "execution_count": 28,
   "metadata": {},
   "outputs": [
    {
     "name": "stdout",
     "output_type": "stream",
     "text": [
      "Apriori\n",
      "Time:  0.8226443487219512\n",
      "Time:  1.7990779876708984\n",
      "Time:  58.27382839983329\n"
     ]
    }
   ],
   "source": [
    "print('Apriori')\n",
    "tic = timeit.default_timer()\n",
    "Apriori(ReadData(dataset), len(dataset), 900, 0)\n",
    "toc = timeit.default_timer()\n",
    "print('Time: ', toc - tic)\n",
    "\n",
    "tic = timeit.default_timer()\n",
    "Apriori(ReadData(dataset), len(dataset), 300, 0)\n",
    "toc = timeit.default_timer()\n",
    "print('Time: ', toc - tic)\n",
    "\n",
    "tic = timeit.default_timer()\n",
    "Apriori(ReadData(dataset), len(dataset), 100, 0)\n",
    "toc = timeit.default_timer()\n",
    "print('Time: ', toc - tic)"
   ]
  },
  {
   "cell_type": "code",
   "execution_count": null,
   "metadata": {},
   "outputs": [],
   "source": []
  },
  {
   "cell_type": "code",
   "execution_count": null,
   "metadata": {},
   "outputs": [],
   "source": []
  },
  {
   "cell_type": "code",
   "execution_count": 33,
   "metadata": {},
   "outputs": [
    {
     "name": "stdout",
     "output_type": "stream",
     "text": [
      "pyfpgrowth\n",
      "Time:  0.15499818697571754\n",
      "Time:  0.019474192056804895\n",
      "Time:  0.003650657832622528\n"
     ]
    }
   ],
   "source": [
    "# 固定 minima support大小(minima support=300)，觀察trasation數目與實行時間關係\n",
    "print('pyfpgrowth')\n",
    "tic = timeit.default_timer()\n",
    "pyfpgrowth.find_frequent_patterns(dataset[:10000], 300)\n",
    "toc = timeit.default_timer()\n",
    "print('Time: ', toc - tic)\n",
    "\n",
    "tic = timeit.default_timer()\n",
    "pyfpgrowth.find_frequent_patterns(dataset[:5000], 300)\n",
    "toc = timeit.default_timer()\n",
    "print('Time: ', toc - tic)\n",
    "\n",
    "tic = timeit.default_timer()\n",
    "pyfpgrowth.find_frequent_patterns(dataset[:1000], 300)\n",
    "toc = timeit.default_timer()\n",
    "print('Time: ', toc - tic)"
   ]
  },
  {
   "cell_type": "code",
   "execution_count": 35,
   "metadata": {},
   "outputs": [
    {
     "name": "stdout",
     "output_type": "stream",
     "text": [
      "fp-growth\n",
      "Time:  0.12296994123607874\n",
      "Time:  0.01945443032309413\n",
      "Time:  0.0036582970060408115\n"
     ]
    }
   ],
   "source": [
    "print('fp-growth')\n",
    "tic = timeit.default_timer()\n",
    "tree = FPTree(dataset[:10000], 300, None, None)\n",
    "tree.mine_patterns(300)\n",
    "toc = timeit.default_timer()\n",
    "print('Time: ', toc - tic)\n",
    "\n",
    "tic = timeit.default_timer()\n",
    "tree = FPTree(dataset[:5000], 300, None, None)\n",
    "tree.mine_patterns(300)\n",
    "toc = timeit.default_timer()\n",
    "print('Time: ', toc - tic)\n",
    "\n",
    "tic = timeit.default_timer()\n",
    "tree = FPTree(dataset[:1000], 300, None, None)\n",
    "tree.mine_patterns(300)\n",
    "toc = timeit.default_timer()\n",
    "print('Time: ', toc - tic)"
   ]
  },
  {
   "cell_type": "code",
   "execution_count": 34,
   "metadata": {},
   "outputs": [
    {
     "name": "stdout",
     "output_type": "stream",
     "text": [
      "Apriori\n",
      "Time:  1.8170774690806866\n",
      "Time:  0.6400609510019422\n",
      "Time:  0.15733187785372138\n"
     ]
    }
   ],
   "source": [
    "print('Apriori')\n",
    "tic = timeit.default_timer()\n",
    "Apriori(ReadData(dataset[:10000]), len(dataset), 300, 0)\n",
    "toc = timeit.default_timer()\n",
    "print('Time: ', toc - tic)\n",
    "\n",
    "tic = timeit.default_timer()\n",
    "Apriori(ReadData(dataset[:5000]), len(dataset), 300, 0)\n",
    "toc = timeit.default_timer()\n",
    "print('Time: ', toc - tic)\n",
    "\n",
    "tic = timeit.default_timer()\n",
    "Apriori(ReadData(dataset[:1000]), len(dataset), 300, 0)\n",
    "toc = timeit.default_timer()\n",
    "print('Time: ', toc - tic)"
   ]
  },
  {
   "cell_type": "code",
   "execution_count": null,
   "metadata": {},
   "outputs": [],
   "source": []
  }
 ],
 "metadata": {
  "kernelspec": {
   "display_name": "Python 3",
   "language": "python",
   "name": "python3"
  },
  "language_info": {
   "codemirror_mode": {
    "name": "ipython",
    "version": 3
   },
   "file_extension": ".py",
   "mimetype": "text/x-python",
   "name": "python",
   "nbconvert_exporter": "python",
   "pygments_lexer": "ipython3",
   "version": "3.6.5"
  }
 },
 "nbformat": 4,
 "nbformat_minor": 2
}
