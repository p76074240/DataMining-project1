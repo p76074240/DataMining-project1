{
 "cells": [
  {
   "cell_type": "code",
   "execution_count": 1,
   "metadata": {},
   "outputs": [],
   "source": [
    "# import our implement code\n",
    "from apriori import Apriori, ReadData\n",
    "from fpgrowph import FPTree\n",
    "\n",
    "import pyfpgrowth\n",
    "import pandas as pd\n",
    "import numpy as np\n",
    "import datetime \n",
    "import timeit\n",
    "import pickle"
   ]
  },
  {
   "cell_type": "code",
   "execution_count": 2,
   "metadata": {},
   "outputs": [],
   "source": [
    "with open(r'./dataset/kaggle_dataset.pkl', 'rb') as fin:\n",
    "    dataset = pickle.load(fin)"
   ]
  },
  {
   "cell_type": "code",
   "execution_count": 4,
   "metadata": {},
   "outputs": [
    {
     "data": {
      "text/plain": [
       "1649534"
      ]
     },
     "execution_count": 4,
     "metadata": {},
     "output_type": "execute_result"
    }
   ],
   "source": [
    "len(dataset)"
   ]
  },
  {
   "cell_type": "code",
   "execution_count": 5,
   "metadata": {},
   "outputs": [
    {
     "data": {
      "text/plain": [
       "10000"
      ]
     },
     "execution_count": 5,
     "metadata": {},
     "output_type": "execute_result"
    }
   ],
   "source": [
    "dataset = dataset[:10000]\n",
    "len(dataset)"
   ]
  },
  {
   "cell_type": "code",
   "execution_count": 6,
   "metadata": {},
   "outputs": [
    {
     "name": "stdout",
     "output_type": "stream",
     "text": [
      "pyfpgrowth\n",
      "Time:  0.017675184179097414\n",
      "Time:  0.0252280761487782\n",
      "Time:  0.024648253805935383\n"
     ]
    }
   ],
   "source": [
    "# 固定trasation數目(trasations = 10000)，觀察 minima support大小與實行時間關係\n",
    "\n",
    "print('pyfpgrowth')\n",
    "tic = timeit.default_timer()\n",
    "pyfpgrowth.find_frequent_patterns(dataset, 900)\n",
    "toc = timeit.default_timer()\n",
    "print('Time: ', toc - tic)\n",
    "\n",
    "tic = timeit.default_timer()\n",
    "pyfpgrowth.find_frequent_patterns(dataset, 300)\n",
    "toc = timeit.default_timer()\n",
    "print('Time: ', toc - tic)\n",
    "\n",
    "tic = timeit.default_timer()\n",
    "pyfpgrowth.find_frequent_patterns(dataset, 100)\n",
    "toc = timeit.default_timer()\n",
    "print('Time: ', toc - tic)"
   ]
  },
  {
   "cell_type": "code",
   "execution_count": 7,
   "metadata": {},
   "outputs": [
    {
     "name": "stdout",
     "output_type": "stream",
     "text": [
      "fp-growth\n",
      "Time:  0.018718854058533907\n",
      "Time:  0.01707854913547635\n",
      "Time:  0.02188724000006914\n"
     ]
    }
   ],
   "source": [
    "print('fp-growth')\n",
    "tic = timeit.default_timer()\n",
    "tree = FPTree(dataset, 900, None, None)\n",
    "tree.mine_patterns(900)\n",
    "toc = timeit.default_timer()\n",
    "print('Time: ', toc - tic)\n",
    "\n",
    "tic = timeit.default_timer()\n",
    "tree = FPTree(dataset, 300, None, None)\n",
    "tree.mine_patterns(300)\n",
    "toc = timeit.default_timer()\n",
    "print('Time: ', toc - tic)\n",
    "\n",
    "tic = timeit.default_timer()\n",
    "tree = FPTree(dataset, 100, None, None)\n",
    "tree.mine_patterns(100)\n",
    "toc = timeit.default_timer()\n",
    "print('Time: ', toc - tic)"
   ]
  },
  {
   "cell_type": "code",
   "execution_count": 8,
   "metadata": {},
   "outputs": [
    {
     "name": "stdout",
     "output_type": "stream",
     "text": [
      "Apriori\n",
      "Time:  5.1547880987636745\n",
      "Time:  5.480314610991627\n",
      "Time:  5.443474090192467\n"
     ]
    }
   ],
   "source": [
    "print('Apriori')\n",
    "tic = timeit.default_timer()\n",
    "Apriori(ReadData(dataset), len(dataset), 900, 0)\n",
    "toc = timeit.default_timer()\n",
    "print('Time: ', toc - tic)\n",
    "\n",
    "tic = timeit.default_timer()\n",
    "Apriori(ReadData(dataset), len(dataset), 300, 0)\n",
    "toc = timeit.default_timer()\n",
    "print('Time: ', toc - tic)\n",
    "\n",
    "tic = timeit.default_timer()\n",
    "Apriori(ReadData(dataset), len(dataset), 100, 0)\n",
    "toc = timeit.default_timer()\n",
    "print('Time: ', toc - tic)"
   ]
  },
  {
   "cell_type": "code",
   "execution_count": null,
   "metadata": {},
   "outputs": [],
   "source": []
  }
 ],
 "metadata": {
  "kernelspec": {
   "display_name": "Python 3",
   "language": "python",
   "name": "python3"
  },
  "language_info": {
   "codemirror_mode": {
    "name": "ipython",
    "version": 3
   },
   "file_extension": ".py",
   "mimetype": "text/x-python",
   "name": "python",
   "nbconvert_exporter": "python",
   "pygments_lexer": "ipython3",
   "version": "3.6.5"
  }
 },
 "nbformat": 4,
 "nbformat_minor": 2
}
